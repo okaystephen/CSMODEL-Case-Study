{
 "cells": [
  {
   "cell_type": "code",
   "execution_count": 1,
   "metadata": {},
   "outputs": [],
   "source": [
    "import pandas as pd\n",
    "import csv\n",
    "import numpy\n",
    "import seaborn as sns\n",
    "import matplotlib.pyplot as plt"
   ]
  },
  {
   "cell_type": "markdown",
   "metadata": {},
   "source": [
    "### Read \"title.ratings.tsv\" file"
   ]
  },
  {
   "cell_type": "code",
   "execution_count": 2,
   "metadata": {},
   "outputs": [],
   "source": [
    "title_ratings=pd.read_csv(\"title.ratings.tsv\", sep='\\t')"
   ]
  },
  {
   "cell_type": "code",
   "execution_count": 3,
   "metadata": {},
   "outputs": [
    {
     "data": {
      "text/html": [
       "<div>\n",
       "<style scoped>\n",
       "    .dataframe tbody tr th:only-of-type {\n",
       "        vertical-align: middle;\n",
       "    }\n",
       "\n",
       "    .dataframe tbody tr th {\n",
       "        vertical-align: top;\n",
       "    }\n",
       "\n",
       "    .dataframe thead th {\n",
       "        text-align: right;\n",
       "    }\n",
       "</style>\n",
       "<table border=\"1\" class=\"dataframe\">\n",
       "  <thead>\n",
       "    <tr style=\"text-align: right;\">\n",
       "      <th></th>\n",
       "      <th>tconst</th>\n",
       "      <th>averageRating</th>\n",
       "      <th>numVotes</th>\n",
       "    </tr>\n",
       "  </thead>\n",
       "  <tbody>\n",
       "    <tr>\n",
       "      <th>0</th>\n",
       "      <td>tt0000001</td>\n",
       "      <td>5.6</td>\n",
       "      <td>1647</td>\n",
       "    </tr>\n",
       "    <tr>\n",
       "      <th>1</th>\n",
       "      <td>tt0000002</td>\n",
       "      <td>6.1</td>\n",
       "      <td>198</td>\n",
       "    </tr>\n",
       "    <tr>\n",
       "      <th>2</th>\n",
       "      <td>tt0000003</td>\n",
       "      <td>6.5</td>\n",
       "      <td>1345</td>\n",
       "    </tr>\n",
       "    <tr>\n",
       "      <th>3</th>\n",
       "      <td>tt0000004</td>\n",
       "      <td>6.2</td>\n",
       "      <td>120</td>\n",
       "    </tr>\n",
       "    <tr>\n",
       "      <th>4</th>\n",
       "      <td>tt0000005</td>\n",
       "      <td>6.2</td>\n",
       "      <td>2131</td>\n",
       "    </tr>\n",
       "  </tbody>\n",
       "</table>\n",
       "</div>"
      ],
      "text/plain": [
       "      tconst  averageRating  numVotes\n",
       "0  tt0000001            5.6      1647\n",
       "1  tt0000002            6.1       198\n",
       "2  tt0000003            6.5      1345\n",
       "3  tt0000004            6.2       120\n",
       "4  tt0000005            6.2      2131"
      ]
     },
     "execution_count": 3,
     "metadata": {},
     "output_type": "execute_result"
    }
   ],
   "source": [
    "title_ratings.head()"
   ]
  },
  {
   "cell_type": "markdown",
   "metadata": {},
   "source": [
    "### Read \"title.basics.tsv\" file"
   ]
  },
  {
   "cell_type": "code",
   "execution_count": 4,
   "metadata": {},
   "outputs": [
    {
     "name": "stderr",
     "output_type": "stream",
     "text": [
      "/Users/victortulabot/opt/anaconda3/lib/python3.8/site-packages/IPython/core/interactiveshell.py:3071: DtypeWarning: Columns (5) have mixed types.Specify dtype option on import or set low_memory=False.\n",
      "  has_raised = await self.run_ast_nodes(code_ast.body, cell_name,\n"
     ]
    }
   ],
   "source": [
    "title_basics=pd.read_csv(\"title.basics.tsv\", sep='\\t')\n",
    "title_basics=title_basics.drop_duplicates()"
   ]
  },
  {
   "cell_type": "code",
   "execution_count": 5,
   "metadata": {},
   "outputs": [
    {
     "data": {
      "text/html": [
       "<div>\n",
       "<style scoped>\n",
       "    .dataframe tbody tr th:only-of-type {\n",
       "        vertical-align: middle;\n",
       "    }\n",
       "\n",
       "    .dataframe tbody tr th {\n",
       "        vertical-align: top;\n",
       "    }\n",
       "\n",
       "    .dataframe thead th {\n",
       "        text-align: right;\n",
       "    }\n",
       "</style>\n",
       "<table border=\"1\" class=\"dataframe\">\n",
       "  <thead>\n",
       "    <tr style=\"text-align: right;\">\n",
       "      <th></th>\n",
       "      <th>titleType</th>\n",
       "      <th>tconst</th>\n",
       "      <th>primaryTitle</th>\n",
       "      <th>originalTitle</th>\n",
       "      <th>startYear</th>\n",
       "    </tr>\n",
       "  </thead>\n",
       "  <tbody>\n",
       "    <tr>\n",
       "      <th>8</th>\n",
       "      <td>movie</td>\n",
       "      <td>tt0000009</td>\n",
       "      <td>Miss Jerry</td>\n",
       "      <td>Miss Jerry</td>\n",
       "      <td>1894</td>\n",
       "    </tr>\n",
       "    <tr>\n",
       "      <th>144</th>\n",
       "      <td>movie</td>\n",
       "      <td>tt0000147</td>\n",
       "      <td>The Corbett-Fitzsimmons Fight</td>\n",
       "      <td>The Corbett-Fitzsimmons Fight</td>\n",
       "      <td>1897</td>\n",
       "    </tr>\n",
       "    <tr>\n",
       "      <th>331</th>\n",
       "      <td>movie</td>\n",
       "      <td>tt0000335</td>\n",
       "      <td>Soldiers of the Cross</td>\n",
       "      <td>Soldiers of the Cross</td>\n",
       "      <td>1900</td>\n",
       "    </tr>\n",
       "    <tr>\n",
       "      <th>498</th>\n",
       "      <td>movie</td>\n",
       "      <td>tt0000502</td>\n",
       "      <td>Bohemios</td>\n",
       "      <td>Bohemios</td>\n",
       "      <td>1905</td>\n",
       "    </tr>\n",
       "    <tr>\n",
       "      <th>570</th>\n",
       "      <td>movie</td>\n",
       "      <td>tt0000574</td>\n",
       "      <td>The Story of the Kelly Gang</td>\n",
       "      <td>The Story of the Kelly Gang</td>\n",
       "      <td>1906</td>\n",
       "    </tr>\n",
       "  </tbody>\n",
       "</table>\n",
       "</div>"
      ],
      "text/plain": [
       "    titleType     tconst                   primaryTitle  \\\n",
       "8       movie  tt0000009                     Miss Jerry   \n",
       "144     movie  tt0000147  The Corbett-Fitzsimmons Fight   \n",
       "331     movie  tt0000335          Soldiers of the Cross   \n",
       "498     movie  tt0000502                       Bohemios   \n",
       "570     movie  tt0000574    The Story of the Kelly Gang   \n",
       "\n",
       "                     originalTitle startYear  \n",
       "8                       Miss Jerry      1894  \n",
       "144  The Corbett-Fitzsimmons Fight      1897  \n",
       "331          Soldiers of the Cross      1900  \n",
       "498                       Bohemios      1905  \n",
       "570    The Story of the Kelly Gang      1906  "
      ]
     },
     "execution_count": 5,
     "metadata": {},
     "output_type": "execute_result"
    }
   ],
   "source": [
    "title_basics=title_basics[['titleType','tconst','primaryTitle', 'originalTitle', 'startYear']]\n",
    "title_basics=title_basics[title_basics.titleType=='movie']\n",
    "title_basics=title_basics[title_basics.startYear.apply(lambda x: str(x).isnumeric())]\n",
    "title_basics.head()"
   ]
  },
  {
   "cell_type": "markdown",
   "metadata": {},
   "source": [
    "### Merge \"title.ratings.tsv\" and \"title.basics.tsv\" "
   ]
  },
  {
   "cell_type": "code",
   "execution_count": 6,
   "metadata": {},
   "outputs": [],
   "source": [
    "ratings_and_titles=pd.merge(title_ratings.set_index('tconst'), title_basics.set_index('tconst'), left_index=True, right_index=True, how='inner')\n",
    "ratings_and_titles=ratings_and_titles.drop_duplicates()"
   ]
  },
  {
   "cell_type": "code",
   "execution_count": 7,
   "metadata": {},
   "outputs": [
    {
     "data": {
      "text/html": [
       "<div>\n",
       "<style scoped>\n",
       "    .dataframe tbody tr th:only-of-type {\n",
       "        vertical-align: middle;\n",
       "    }\n",
       "\n",
       "    .dataframe tbody tr th {\n",
       "        vertical-align: top;\n",
       "    }\n",
       "\n",
       "    .dataframe thead th {\n",
       "        text-align: right;\n",
       "    }\n",
       "</style>\n",
       "<table border=\"1\" class=\"dataframe\">\n",
       "  <thead>\n",
       "    <tr style=\"text-align: right;\">\n",
       "      <th></th>\n",
       "      <th>averageRating</th>\n",
       "      <th>numVotes</th>\n",
       "      <th>titleType</th>\n",
       "      <th>primaryTitle</th>\n",
       "      <th>originalTitle</th>\n",
       "      <th>startYear</th>\n",
       "    </tr>\n",
       "    <tr>\n",
       "      <th>tconst</th>\n",
       "      <th></th>\n",
       "      <th></th>\n",
       "      <th></th>\n",
       "      <th></th>\n",
       "      <th></th>\n",
       "      <th></th>\n",
       "    </tr>\n",
       "  </thead>\n",
       "  <tbody>\n",
       "    <tr>\n",
       "      <th>tt0000009</th>\n",
       "      <td>5.9</td>\n",
       "      <td>155</td>\n",
       "      <td>movie</td>\n",
       "      <td>Miss Jerry</td>\n",
       "      <td>Miss Jerry</td>\n",
       "      <td>1894</td>\n",
       "    </tr>\n",
       "    <tr>\n",
       "      <th>tt0000147</th>\n",
       "      <td>5.2</td>\n",
       "      <td>357</td>\n",
       "      <td>movie</td>\n",
       "      <td>The Corbett-Fitzsimmons Fight</td>\n",
       "      <td>The Corbett-Fitzsimmons Fight</td>\n",
       "      <td>1897</td>\n",
       "    </tr>\n",
       "    <tr>\n",
       "      <th>tt0000335</th>\n",
       "      <td>6.1</td>\n",
       "      <td>41</td>\n",
       "      <td>movie</td>\n",
       "      <td>Soldiers of the Cross</td>\n",
       "      <td>Soldiers of the Cross</td>\n",
       "      <td>1900</td>\n",
       "    </tr>\n",
       "    <tr>\n",
       "      <th>tt0000502</th>\n",
       "      <td>3.8</td>\n",
       "      <td>6</td>\n",
       "      <td>movie</td>\n",
       "      <td>Bohemios</td>\n",
       "      <td>Bohemios</td>\n",
       "      <td>1905</td>\n",
       "    </tr>\n",
       "    <tr>\n",
       "      <th>tt0000574</th>\n",
       "      <td>6.1</td>\n",
       "      <td>590</td>\n",
       "      <td>movie</td>\n",
       "      <td>The Story of the Kelly Gang</td>\n",
       "      <td>The Story of the Kelly Gang</td>\n",
       "      <td>1906</td>\n",
       "    </tr>\n",
       "  </tbody>\n",
       "</table>\n",
       "</div>"
      ],
      "text/plain": [
       "           averageRating  numVotes titleType                   primaryTitle  \\\n",
       "tconst                                                                        \n",
       "tt0000009            5.9       155     movie                     Miss Jerry   \n",
       "tt0000147            5.2       357     movie  The Corbett-Fitzsimmons Fight   \n",
       "tt0000335            6.1        41     movie          Soldiers of the Cross   \n",
       "tt0000502            3.8         6     movie                       Bohemios   \n",
       "tt0000574            6.1       590     movie    The Story of the Kelly Gang   \n",
       "\n",
       "                           originalTitle startYear  \n",
       "tconst                                              \n",
       "tt0000009                     Miss Jerry      1894  \n",
       "tt0000147  The Corbett-Fitzsimmons Fight      1897  \n",
       "tt0000335          Soldiers of the Cross      1900  \n",
       "tt0000502                       Bohemios      1905  \n",
       "tt0000574    The Story of the Kelly Gang      1906  "
      ]
     },
     "execution_count": 7,
     "metadata": {},
     "output_type": "execute_result"
    }
   ],
   "source": [
    "ratings_and_titles.head()"
   ]
  },
  {
   "cell_type": "markdown",
   "metadata": {},
   "source": [
    "### Read netflix_titles.csv"
   ]
  },
  {
   "cell_type": "code",
   "execution_count": 8,
   "metadata": {},
   "outputs": [],
   "source": [
    "netflix_titles=pd.read_csv(\"netflix_titles.csv\", index_col=\"show_id\")"
   ]
  },
  {
   "cell_type": "markdown",
   "metadata": {},
   "source": [
    "#### Drop rows without release_year"
   ]
  },
  {
   "cell_type": "code",
   "execution_count": 9,
   "metadata": {},
   "outputs": [],
   "source": [
    "netflix_titles=netflix_titles.dropna(subset=['release_year'])"
   ]
  },
  {
   "cell_type": "markdown",
   "metadata": {},
   "source": [
    "#### Change release_year column to integer"
   ]
  },
  {
   "cell_type": "code",
   "execution_count": 10,
   "metadata": {},
   "outputs": [],
   "source": [
    "netflix_titles.release_year=netflix_titles.release_year.astype(numpy.int64)"
   ]
  },
  {
   "cell_type": "markdown",
   "metadata": {},
   "source": [
    "#### Drop rows in ratings_and_titles with non-numeric values for startYear and convert to integer"
   ]
  },
  {
   "cell_type": "code",
   "execution_count": 11,
   "metadata": {},
   "outputs": [],
   "source": [
    "ratings_and_titles=ratings_and_titles[ratings_and_titles.startYear.apply(lambda x: str(x).isnumeric())]"
   ]
  },
  {
   "cell_type": "code",
   "execution_count": 12,
   "metadata": {},
   "outputs": [],
   "source": [
    "ratings_and_titles.startYear=ratings_and_titles.startYear.astype(numpy.int64)"
   ]
  },
  {
   "cell_type": "markdown",
   "metadata": {},
   "source": [
    "#### Convert titles to lowercase"
   ]
  },
  {
   "cell_type": "code",
   "execution_count": 13,
   "metadata": {},
   "outputs": [],
   "source": [
    "netflix_titles['title']=netflix_titles['title'].str.lower()\n",
    "ratings_and_titles['originalTitle']=ratings_and_titles['originalTitle'].str.lower()\n",
    "ratings_and_titles['primaryTitle']=ratings_and_titles['primaryTitle'].str.lower()"
   ]
  },
  {
   "cell_type": "markdown",
   "metadata": {},
   "source": [
    "### Join netflix titles with IMDb ratings on title name and release year."
   ]
  },
  {
   "cell_type": "code",
   "execution_count": 14,
   "metadata": {},
   "outputs": [],
   "source": [
    "##subset movies\n",
    "netflix_titles=netflix_titles[netflix_titles.type=='Movie']"
   ]
  },
  {
   "cell_type": "code",
   "execution_count": 15,
   "metadata": {},
   "outputs": [],
   "source": [
    "netflix_titles_rating=pd.merge(netflix_titles, ratings_and_titles, left_on=['title', 'release_year'], right_on=['primaryTitle', 'startYear'], how='inner')"
   ]
  },
  {
   "cell_type": "markdown",
   "metadata": {},
   "source": [
    "### Sort the obtained data frame by averageRating and number of votes"
   ]
  },
  {
   "cell_type": "code",
   "execution_count": 16,
   "metadata": {},
   "outputs": [],
   "source": [
    "netflix_titles_rating.sort_values(by=['averageRating', 'numVotes'], inplace=True, ascending=False)"
   ]
  },
  {
   "cell_type": "code",
   "execution_count": 17,
   "metadata": {},
   "outputs": [],
   "source": [
    "netflix_titles_rating_2000=netflix_titles_rating[netflix_titles_rating.numVotes>2000]"
   ]
  },
  {
   "cell_type": "code",
   "execution_count": 18,
   "metadata": {
    "scrolled": true
   },
   "outputs": [
    {
     "data": {
      "text/html": [
       "<div>\n",
       "<style scoped>\n",
       "    .dataframe tbody tr th:only-of-type {\n",
       "        vertical-align: middle;\n",
       "    }\n",
       "\n",
       "    .dataframe tbody tr th {\n",
       "        vertical-align: top;\n",
       "    }\n",
       "\n",
       "    .dataframe thead th {\n",
       "        text-align: right;\n",
       "    }\n",
       "</style>\n",
       "<table border=\"1\" class=\"dataframe\">\n",
       "  <thead>\n",
       "    <tr style=\"text-align: right;\">\n",
       "      <th></th>\n",
       "      <th>type</th>\n",
       "      <th>title</th>\n",
       "      <th>director</th>\n",
       "      <th>cast</th>\n",
       "      <th>country</th>\n",
       "      <th>date_added</th>\n",
       "      <th>release_year</th>\n",
       "      <th>rating</th>\n",
       "      <th>duration</th>\n",
       "      <th>listed_in</th>\n",
       "      <th>description</th>\n",
       "      <th>averageRating</th>\n",
       "      <th>numVotes</th>\n",
       "      <th>titleType</th>\n",
       "      <th>primaryTitle</th>\n",
       "      <th>originalTitle</th>\n",
       "      <th>startYear</th>\n",
       "    </tr>\n",
       "  </thead>\n",
       "  <tbody>\n",
       "    <tr>\n",
       "      <th>1894</th>\n",
       "      <td>Movie</td>\n",
       "      <td>pulp fiction</td>\n",
       "      <td>Quentin Tarantino</td>\n",
       "      <td>John Travolta, Samuel L. Jackson, Uma Thurman,...</td>\n",
       "      <td>United States</td>\n",
       "      <td>January 1, 2019</td>\n",
       "      <td>1994</td>\n",
       "      <td>R</td>\n",
       "      <td>154 min</td>\n",
       "      <td>Classic Movies, Cult Movies, Dramas</td>\n",
       "      <td>This stylized crime caper weaves together stor...</td>\n",
       "      <td>8.9</td>\n",
       "      <td>1782352</td>\n",
       "      <td>movie</td>\n",
       "      <td>pulp fiction</td>\n",
       "      <td>pulp fiction</td>\n",
       "      <td>1994</td>\n",
       "    </tr>\n",
       "    <tr>\n",
       "      <th>1854</th>\n",
       "      <td>Movie</td>\n",
       "      <td>the lord of the rings: the return of the king</td>\n",
       "      <td>Peter Jackson</td>\n",
       "      <td>Elijah Wood, Ian McKellen, Liv Tyler, Viggo Mo...</td>\n",
       "      <td>New Zealand, United States</td>\n",
       "      <td>January 1, 2020</td>\n",
       "      <td>2003</td>\n",
       "      <td>PG-13</td>\n",
       "      <td>201 min</td>\n",
       "      <td>Action &amp; Adventure, Sci-Fi &amp; Fantasy</td>\n",
       "      <td>Aragorn is revealed as the heir to the ancient...</td>\n",
       "      <td>8.9</td>\n",
       "      <td>1605940</td>\n",
       "      <td>movie</td>\n",
       "      <td>the lord of the rings: the return of the king</td>\n",
       "      <td>the lord of the rings: the return of the king</td>\n",
       "      <td>2003</td>\n",
       "    </tr>\n",
       "    <tr>\n",
       "      <th>2836</th>\n",
       "      <td>Movie</td>\n",
       "      <td>schindler's list</td>\n",
       "      <td>Steven Spielberg</td>\n",
       "      <td>Liam Neeson, Ben Kingsley, Ralph Fiennes, Caro...</td>\n",
       "      <td>United States</td>\n",
       "      <td>April 1, 2018</td>\n",
       "      <td>1993</td>\n",
       "      <td>R</td>\n",
       "      <td>195 min</td>\n",
       "      <td>Classic Movies, Dramas</td>\n",
       "      <td>Oskar Schindler becomes an unlikely humanitari...</td>\n",
       "      <td>8.9</td>\n",
       "      <td>1184746</td>\n",
       "      <td>movie</td>\n",
       "      <td>schindler's list</td>\n",
       "      <td>schindler's list</td>\n",
       "      <td>1993</td>\n",
       "    </tr>\n",
       "    <tr>\n",
       "      <th>1813</th>\n",
       "      <td>Movie</td>\n",
       "      <td>inception</td>\n",
       "      <td>Christopher Nolan</td>\n",
       "      <td>Leonardo DiCaprio, Joseph Gordon-Levitt, Ellen...</td>\n",
       "      <td>United States, United Kingdom</td>\n",
       "      <td>January 1, 2020</td>\n",
       "      <td>2010</td>\n",
       "      <td>PG-13</td>\n",
       "      <td>148 min</td>\n",
       "      <td>Action &amp; Adventure, Sci-Fi &amp; Fantasy, Thrillers</td>\n",
       "      <td>In this mind-bending sci-fi thriller, a man ru...</td>\n",
       "      <td>8.8</td>\n",
       "      <td>2006939</td>\n",
       "      <td>movie</td>\n",
       "      <td>inception</td>\n",
       "      <td>inception</td>\n",
       "      <td>2010</td>\n",
       "    </tr>\n",
       "    <tr>\n",
       "      <th>740</th>\n",
       "      <td>Movie</td>\n",
       "      <td>the matrix</td>\n",
       "      <td>Lilly Wachowski, Lana Wachowski</td>\n",
       "      <td>Keanu Reeves, Laurence Fishburne, Carrie-Anne ...</td>\n",
       "      <td>United States</td>\n",
       "      <td>November 1, 2019</td>\n",
       "      <td>1999</td>\n",
       "      <td>R</td>\n",
       "      <td>136 min</td>\n",
       "      <td>Action &amp; Adventure, Sci-Fi &amp; Fantasy</td>\n",
       "      <td>A computer hacker learns that what most people...</td>\n",
       "      <td>8.7</td>\n",
       "      <td>1634375</td>\n",
       "      <td>movie</td>\n",
       "      <td>the matrix</td>\n",
       "      <td>the matrix</td>\n",
       "      <td>1999</td>\n",
       "    </tr>\n",
       "    <tr>\n",
       "      <th>1855</th>\n",
       "      <td>Movie</td>\n",
       "      <td>the lord of the rings: the two towers</td>\n",
       "      <td>Peter Jackson</td>\n",
       "      <td>Elijah Wood, Ian McKellen, Liv Tyler, Viggo Mo...</td>\n",
       "      <td>New Zealand, United States</td>\n",
       "      <td>January 1, 2020</td>\n",
       "      <td>2002</td>\n",
       "      <td>PG-13</td>\n",
       "      <td>179 min</td>\n",
       "      <td>Action &amp; Adventure, Sci-Fi &amp; Fantasy</td>\n",
       "      <td>Frodo and Sam head to Mordor to destroy the On...</td>\n",
       "      <td>8.7</td>\n",
       "      <td>1451316</td>\n",
       "      <td>movie</td>\n",
       "      <td>the lord of the rings: the two towers</td>\n",
       "      <td>the lord of the rings: the two towers</td>\n",
       "      <td>2002</td>\n",
       "    </tr>\n",
       "    <tr>\n",
       "      <th>1971</th>\n",
       "      <td>Movie</td>\n",
       "      <td>be here now</td>\n",
       "      <td>Lilibet Foster</td>\n",
       "      <td>Andy Whitfield</td>\n",
       "      <td>United States, Australia</td>\n",
       "      <td>February 28, 2017</td>\n",
       "      <td>2015</td>\n",
       "      <td>TV-MA</td>\n",
       "      <td>110 min</td>\n",
       "      <td>Documentaries</td>\n",
       "      <td>Trace the brave journey of actor Andy Whitfiel...</td>\n",
       "      <td>8.7</td>\n",
       "      <td>3157</td>\n",
       "      <td>movie</td>\n",
       "      <td>be here now</td>\n",
       "      <td>be here now</td>\n",
       "      <td>2015</td>\n",
       "    </tr>\n",
       "    <tr>\n",
       "      <th>1792</th>\n",
       "      <td>Movie</td>\n",
       "      <td>city of god</td>\n",
       "      <td>Fernando Meirelles, Katia Lund</td>\n",
       "      <td>Alexandre Rodrigues, Leandro Firmino, Phellipe...</td>\n",
       "      <td>Brazil, France, Germany</td>\n",
       "      <td>January 1, 2020</td>\n",
       "      <td>2002</td>\n",
       "      <td>R</td>\n",
       "      <td>130 min</td>\n",
       "      <td>Dramas, Independent Movies, International Movies</td>\n",
       "      <td>Growing up in a Rio de Janeiro slum, Rocket is...</td>\n",
       "      <td>8.6</td>\n",
       "      <td>686449</td>\n",
       "      <td>movie</td>\n",
       "      <td>city of god</td>\n",
       "      <td>cidade de deus</td>\n",
       "      <td>2002</td>\n",
       "    </tr>\n",
       "    <tr>\n",
       "      <th>2180</th>\n",
       "      <td>Movie</td>\n",
       "      <td>gol maal</td>\n",
       "      <td>Hrishikesh Mukherjee</td>\n",
       "      <td>Amol Palekar, Bindiya Goswami, Deven Verma, Ut...</td>\n",
       "      <td>India</td>\n",
       "      <td>December 31, 2019</td>\n",
       "      <td>1979</td>\n",
       "      <td>TV-PG</td>\n",
       "      <td>137 min</td>\n",
       "      <td>Classic Movies, Comedies, International Movies</td>\n",
       "      <td>When circumstances at work compel Ram to prete...</td>\n",
       "      <td>8.6</td>\n",
       "      <td>17423</td>\n",
       "      <td>movie</td>\n",
       "      <td>gol maal</td>\n",
       "      <td>gol maal</td>\n",
       "      <td>1979</td>\n",
       "    </tr>\n",
       "    <tr>\n",
       "      <th>2398</th>\n",
       "      <td>Movie</td>\n",
       "      <td>the departed</td>\n",
       "      <td>Martin Scorsese</td>\n",
       "      <td>Leonardo DiCaprio, Matt Damon, Jack Nicholson,...</td>\n",
       "      <td>United States</td>\n",
       "      <td>December 1, 2019</td>\n",
       "      <td>2006</td>\n",
       "      <td>R</td>\n",
       "      <td>151 min</td>\n",
       "      <td>Dramas, Thrillers</td>\n",
       "      <td>Two rookie Boston cops are sent deep undercove...</td>\n",
       "      <td>8.5</td>\n",
       "      <td>1161114</td>\n",
       "      <td>movie</td>\n",
       "      <td>the departed</td>\n",
       "      <td>the departed</td>\n",
       "      <td>2006</td>\n",
       "    </tr>\n",
       "    <tr>\n",
       "      <th>683</th>\n",
       "      <td>Movie</td>\n",
       "      <td>american history x</td>\n",
       "      <td>Tony Kaye</td>\n",
       "      <td>Edward Norton, Edward Furlong, Beverly D'Angel...</td>\n",
       "      <td>United States</td>\n",
       "      <td>November 1, 2019</td>\n",
       "      <td>1998</td>\n",
       "      <td>R</td>\n",
       "      <td>119 min</td>\n",
       "      <td>Dramas</td>\n",
       "      <td>A neo-Nazi gets sent to prison for murder and ...</td>\n",
       "      <td>8.5</td>\n",
       "      <td>1015108</td>\n",
       "      <td>movie</td>\n",
       "      <td>american history x</td>\n",
       "      <td>american history x</td>\n",
       "      <td>1998</td>\n",
       "    </tr>\n",
       "    <tr>\n",
       "      <th>604</th>\n",
       "      <td>Movie</td>\n",
       "      <td>once upon a time in the west</td>\n",
       "      <td>Sergio Leone</td>\n",
       "      <td>Henry Fonda, Charles Bronson, Claudia Cardinal...</td>\n",
       "      <td>Italy, United States</td>\n",
       "      <td>November 20, 2019</td>\n",
       "      <td>1968</td>\n",
       "      <td>PG-13</td>\n",
       "      <td>166 min</td>\n",
       "      <td>Action &amp; Adventure, Classic Movies, Internatio...</td>\n",
       "      <td>In this epic spaghetti Western, a flinty gunsl...</td>\n",
       "      <td>8.5</td>\n",
       "      <td>295650</td>\n",
       "      <td>movie</td>\n",
       "      <td>once upon a time in the west</td>\n",
       "      <td>c'era una volta il west</td>\n",
       "      <td>1968</td>\n",
       "    </tr>\n",
       "    <tr>\n",
       "      <th>410</th>\n",
       "      <td>Movie</td>\n",
       "      <td>senna</td>\n",
       "      <td>Asif Kapadia</td>\n",
       "      <td>Ayrton Senna, Alain Prost, Frank Williams</td>\n",
       "      <td>United Kingdom, France, United States</td>\n",
       "      <td>October 1, 2019</td>\n",
       "      <td>2010</td>\n",
       "      <td>PG-13</td>\n",
       "      <td>106 min</td>\n",
       "      <td>Documentaries, International Movies, Sports Mo...</td>\n",
       "      <td>This fast-paced documentary profiles Ayrton Se...</td>\n",
       "      <td>8.5</td>\n",
       "      <td>62415</td>\n",
       "      <td>movie</td>\n",
       "      <td>senna</td>\n",
       "      <td>senna</td>\n",
       "      <td>2010</td>\n",
       "    </tr>\n",
       "    <tr>\n",
       "      <th>2259</th>\n",
       "      <td>Movie</td>\n",
       "      <td>avengers: infinity war</td>\n",
       "      <td>Anthony Russo, Joe Russo</td>\n",
       "      <td>Robert Downey Jr., Josh Brolin, Mark Ruffalo, ...</td>\n",
       "      <td>United States</td>\n",
       "      <td>December 25, 2018</td>\n",
       "      <td>2018</td>\n",
       "      <td>PG-13</td>\n",
       "      <td>150 min</td>\n",
       "      <td>Action &amp; Adventure, Sci-Fi &amp; Fantasy</td>\n",
       "      <td>Superheroes amass to stop intergalactic sociop...</td>\n",
       "      <td>8.4</td>\n",
       "      <td>798378</td>\n",
       "      <td>movie</td>\n",
       "      <td>avengers: infinity war</td>\n",
       "      <td>avengers: infinity war</td>\n",
       "      <td>2018</td>\n",
       "    </tr>\n",
       "    <tr>\n",
       "      <th>1121</th>\n",
       "      <td>Movie</td>\n",
       "      <td>the lives of others</td>\n",
       "      <td>Florian Henckel von Donnersmarck</td>\n",
       "      <td>Ulrich Mühe, Martina Gedeck, Sebastian Koch, U...</td>\n",
       "      <td>Germany</td>\n",
       "      <td>March 15, 2019</td>\n",
       "      <td>2006</td>\n",
       "      <td>R</td>\n",
       "      <td>138 min</td>\n",
       "      <td>Dramas, International Movies, Thrillers</td>\n",
       "      <td>As a secret police agent eavesdrops on a succe...</td>\n",
       "      <td>8.4</td>\n",
       "      <td>350061</td>\n",
       "      <td>movie</td>\n",
       "      <td>the lives of others</td>\n",
       "      <td>das leben der anderen</td>\n",
       "      <td>2006</td>\n",
       "    </tr>\n",
       "    <tr>\n",
       "      <th>1287</th>\n",
       "      <td>Movie</td>\n",
       "      <td>spider-man: into the spider-verse</td>\n",
       "      <td>Peter Ramsey, Rodney Rothman, Bob Persichetti</td>\n",
       "      <td>Shameik Moore, Jake Johnson, Hailee Steinfeld,...</td>\n",
       "      <td>United States</td>\n",
       "      <td>June 26, 2019</td>\n",
       "      <td>2018</td>\n",
       "      <td>PG</td>\n",
       "      <td>117 min</td>\n",
       "      <td>Action &amp; Adventure, Comedies</td>\n",
       "      <td>After being bitten by a radioactive spider, Br...</td>\n",
       "      <td>8.4</td>\n",
       "      <td>337201</td>\n",
       "      <td>movie</td>\n",
       "      <td>spider-man: into the spider-verse</td>\n",
       "      <td>spider-man: into the spider-verse</td>\n",
       "      <td>2018</td>\n",
       "    </tr>\n",
       "    <tr>\n",
       "      <th>2588</th>\n",
       "      <td>Movie</td>\n",
       "      <td>3 idiots</td>\n",
       "      <td>Rajkumar Hirani</td>\n",
       "      <td>Aamir Khan, Kareena Kapoor, Madhavan, Sharman ...</td>\n",
       "      <td>India</td>\n",
       "      <td>August 1, 2019</td>\n",
       "      <td>2009</td>\n",
       "      <td>PG-13</td>\n",
       "      <td>164 min</td>\n",
       "      <td>Comedies, Dramas, International Movies</td>\n",
       "      <td>While attending one of India's premier college...</td>\n",
       "      <td>8.4</td>\n",
       "      <td>332827</td>\n",
       "      <td>movie</td>\n",
       "      <td>3 idiots</td>\n",
       "      <td>3 idiots</td>\n",
       "      <td>2009</td>\n",
       "    </tr>\n",
       "    <tr>\n",
       "      <th>1311</th>\n",
       "      <td>Movie</td>\n",
       "      <td>dangal</td>\n",
       "      <td>Nitesh Tiwari</td>\n",
       "      <td>Aamir Khan, Sakshi Tanwar, Fatima Sana Shaikh,...</td>\n",
       "      <td>India</td>\n",
       "      <td>June 21, 2017</td>\n",
       "      <td>2016</td>\n",
       "      <td>TV-PG</td>\n",
       "      <td>161 min</td>\n",
       "      <td>Dramas, International Movies, Sports Movies</td>\n",
       "      <td>A once-promising wrestler pursues the gold med...</td>\n",
       "      <td>8.4</td>\n",
       "      <td>148290</td>\n",
       "      <td>movie</td>\n",
       "      <td>dangal</td>\n",
       "      <td>dangal</td>\n",
       "      <td>2016</td>\n",
       "    </tr>\n",
       "    <tr>\n",
       "      <th>215</th>\n",
       "      <td>Movie</td>\n",
       "      <td>winter on fire: ukraine's fight for freedom</td>\n",
       "      <td>Evgeny Afineevsky</td>\n",
       "      <td>NaN</td>\n",
       "      <td>United Kingdom, Ukraine, United States</td>\n",
       "      <td>October 9, 2015</td>\n",
       "      <td>2015</td>\n",
       "      <td>NR</td>\n",
       "      <td>99 min</td>\n",
       "      <td>Documentaries, International Movies</td>\n",
       "      <td>Over 93 days in Ukraine, what started as peace...</td>\n",
       "      <td>8.4</td>\n",
       "      <td>12337</td>\n",
       "      <td>movie</td>\n",
       "      <td>winter on fire: ukraine's fight for freedom</td>\n",
       "      <td>winter on fire: ukraine's fight for freedom</td>\n",
       "      <td>2015</td>\n",
       "    </tr>\n",
       "    <tr>\n",
       "      <th>1276</th>\n",
       "      <td>Movie</td>\n",
       "      <td>super deluxe</td>\n",
       "      <td>Thiagarajan Kumararaja</td>\n",
       "      <td>Vijay Sethupathi, Fahadh Faasil, Samantha Ruth...</td>\n",
       "      <td>India</td>\n",
       "      <td>June 29, 2019</td>\n",
       "      <td>2019</td>\n",
       "      <td>TV-MA</td>\n",
       "      <td>176 min</td>\n",
       "      <td>Comedies, Dramas, International Movies</td>\n",
       "      <td>Sex, stigma and spirituality merge in these ec...</td>\n",
       "      <td>8.4</td>\n",
       "      <td>8319</td>\n",
       "      <td>movie</td>\n",
       "      <td>super deluxe</td>\n",
       "      <td>super deluxe</td>\n",
       "      <td>2019</td>\n",
       "    </tr>\n",
       "    <tr>\n",
       "      <th>2071</th>\n",
       "      <td>Movie</td>\n",
       "      <td>rush: beyond the lighted stage</td>\n",
       "      <td>Sam Dunn, Scot McFadyen</td>\n",
       "      <td>NaN</td>\n",
       "      <td>Canada</td>\n",
       "      <td>February 15, 2017</td>\n",
       "      <td>2010</td>\n",
       "      <td>TV-14</td>\n",
       "      <td>107 min</td>\n",
       "      <td>Documentaries, Music &amp; Musicals</td>\n",
       "      <td>Celebrate the remarkable 40-year career of inf...</td>\n",
       "      <td>8.4</td>\n",
       "      <td>4084</td>\n",
       "      <td>movie</td>\n",
       "      <td>rush: beyond the lighted stage</td>\n",
       "      <td>rush: beyond the lighted stage</td>\n",
       "      <td>2010</td>\n",
       "    </tr>\n",
       "    <tr>\n",
       "      <th>2190</th>\n",
       "      <td>Movie</td>\n",
       "      <td>masoom</td>\n",
       "      <td>Shekhar Kapur</td>\n",
       "      <td>Shabana Azmi, Naseeruddin Shah, Saeed Jaffrey,...</td>\n",
       "      <td>India</td>\n",
       "      <td>December 31, 2019</td>\n",
       "      <td>1983</td>\n",
       "      <td>TV-14</td>\n",
       "      <td>138 min</td>\n",
       "      <td>Dramas, Independent Movies, International Movies</td>\n",
       "      <td>A loving husband and father's joyful family li...</td>\n",
       "      <td>8.4</td>\n",
       "      <td>3552</td>\n",
       "      <td>movie</td>\n",
       "      <td>masoom</td>\n",
       "      <td>masoom</td>\n",
       "      <td>1983</td>\n",
       "    </tr>\n",
       "    <tr>\n",
       "      <th>2198</th>\n",
       "      <td>Movie</td>\n",
       "      <td>sadma</td>\n",
       "      <td>Balu Mahendra</td>\n",
       "      <td>Kamal Hassan, Sridevi, Silk Smitha, Gulshan Gr...</td>\n",
       "      <td>India</td>\n",
       "      <td>December 31, 2019</td>\n",
       "      <td>1983</td>\n",
       "      <td>TV-14</td>\n",
       "      <td>137 min</td>\n",
       "      <td>Dramas, International Movies, Romantic Movies</td>\n",
       "      <td>After a traumatic injury leaves her with amnes...</td>\n",
       "      <td>8.4</td>\n",
       "      <td>2858</td>\n",
       "      <td>movie</td>\n",
       "      <td>sadma</td>\n",
       "      <td>sadma</td>\n",
       "      <td>1983</td>\n",
       "    </tr>\n",
       "    <tr>\n",
       "      <th>2395</th>\n",
       "      <td>Movie</td>\n",
       "      <td>qismat</td>\n",
       "      <td>Jagdeep Sidhu</td>\n",
       "      <td>Ammy Virk, Sargun Mehta, Guggu Gill, Tania, Ha...</td>\n",
       "      <td>India</td>\n",
       "      <td>December 1, 2019</td>\n",
       "      <td>2018</td>\n",
       "      <td>TV-PG</td>\n",
       "      <td>137 min</td>\n",
       "      <td>Dramas, International Movies, Romantic Movies</td>\n",
       "      <td>A young villager moves to Chandigarh and falls...</td>\n",
       "      <td>8.4</td>\n",
       "      <td>2096</td>\n",
       "      <td>movie</td>\n",
       "      <td>qismat</td>\n",
       "      <td>qismat</td>\n",
       "      <td>2018</td>\n",
       "    </tr>\n",
       "    <tr>\n",
       "      <th>445</th>\n",
       "      <td>Movie</td>\n",
       "      <td>harishchandrachi factory</td>\n",
       "      <td>Paresh Mokashi</td>\n",
       "      <td>Nandu Madhav, Vibhawari Deshpande, Ambarish De...</td>\n",
       "      <td>India</td>\n",
       "      <td>October 1, 2018</td>\n",
       "      <td>2009</td>\n",
       "      <td>TV-PG</td>\n",
       "      <td>99 min</td>\n",
       "      <td>Dramas, International Movies</td>\n",
       "      <td>Against a backdrop of burgeoning social unrest...</td>\n",
       "      <td>8.4</td>\n",
       "      <td>2070</td>\n",
       "      <td>movie</td>\n",
       "      <td>harishchandrachi factory</td>\n",
       "      <td>harishchandrachi factory</td>\n",
       "      <td>2009</td>\n",
       "    </tr>\n",
       "    <tr>\n",
       "      <th>1459</th>\n",
       "      <td>Movie</td>\n",
       "      <td>inglourious basterds</td>\n",
       "      <td>Quentin Tarantino</td>\n",
       "      <td>Brad Pitt, Mélanie Laurent, Christoph Waltz, E...</td>\n",
       "      <td>Germany, United States</td>\n",
       "      <td>July 22, 2019</td>\n",
       "      <td>2009</td>\n",
       "      <td>R</td>\n",
       "      <td>153 min</td>\n",
       "      <td>Action &amp; Adventure</td>\n",
       "      <td>A Jewish cinema owner in occupied Paris is for...</td>\n",
       "      <td>8.3</td>\n",
       "      <td>1231605</td>\n",
       "      <td>movie</td>\n",
       "      <td>inglourious basterds</td>\n",
       "      <td>inglourious basterds</td>\n",
       "      <td>2009</td>\n",
       "    </tr>\n",
       "    <tr>\n",
       "      <th>1781</th>\n",
       "      <td>Movie</td>\n",
       "      <td>american beauty</td>\n",
       "      <td>Sam Mendes</td>\n",
       "      <td>Kevin Spacey, Annette Bening, Thora Birch, Wes...</td>\n",
       "      <td>United States</td>\n",
       "      <td>January 1, 2020</td>\n",
       "      <td>1999</td>\n",
       "      <td>R</td>\n",
       "      <td>122 min</td>\n",
       "      <td>Dramas</td>\n",
       "      <td>While struggling to endure his tightly wound w...</td>\n",
       "      <td>8.3</td>\n",
       "      <td>1050054</td>\n",
       "      <td>movie</td>\n",
       "      <td>american beauty</td>\n",
       "      <td>american beauty</td>\n",
       "      <td>1999</td>\n",
       "    </tr>\n",
       "    <tr>\n",
       "      <th>1557</th>\n",
       "      <td>Movie</td>\n",
       "      <td>taxi driver</td>\n",
       "      <td>Martin Scorsese</td>\n",
       "      <td>Robert De Niro, Jodie Foster, Cybill Shepherd,...</td>\n",
       "      <td>United States</td>\n",
       "      <td>July 1, 2019</td>\n",
       "      <td>1976</td>\n",
       "      <td>R</td>\n",
       "      <td>114 min</td>\n",
       "      <td>Classic Movies, Dramas, Thrillers</td>\n",
       "      <td>Enraged by New York's moral rot and urban deca...</td>\n",
       "      <td>8.3</td>\n",
       "      <td>704319</td>\n",
       "      <td>movie</td>\n",
       "      <td>taxi driver</td>\n",
       "      <td>taxi driver</td>\n",
       "      <td>1976</td>\n",
       "    </tr>\n",
       "    <tr>\n",
       "      <th>1105</th>\n",
       "      <td>Movie</td>\n",
       "      <td>a separation</td>\n",
       "      <td>Asghar Farhadi</td>\n",
       "      <td>Leila Hatami, Peyman Moaadi, Shahab Hosseini, ...</td>\n",
       "      <td>Iran, France</td>\n",
       "      <td>March 16, 2019</td>\n",
       "      <td>2011</td>\n",
       "      <td>PG-13</td>\n",
       "      <td>123 min</td>\n",
       "      <td>Dramas, International Movies</td>\n",
       "      <td>Amid an impasse in his marriage, a father in T...</td>\n",
       "      <td>8.3</td>\n",
       "      <td>214404</td>\n",
       "      <td>movie</td>\n",
       "      <td>a separation</td>\n",
       "      <td>jodaeiye nader az simin</td>\n",
       "      <td>2011</td>\n",
       "    </tr>\n",
       "    <tr>\n",
       "      <th>2307</th>\n",
       "      <td>Movie</td>\n",
       "      <td>andhadhun</td>\n",
       "      <td>Sriram Raghavan</td>\n",
       "      <td>Tabu, Ayushmann Khurrana, Radhika Apte, Anil D...</td>\n",
       "      <td>India</td>\n",
       "      <td>December 16, 2018</td>\n",
       "      <td>2018</td>\n",
       "      <td>TV-14</td>\n",
       "      <td>137 min</td>\n",
       "      <td>Comedies, Dramas, International Movies</td>\n",
       "      <td>A visually impaired pianist’s world careens in...</td>\n",
       "      <td>8.3</td>\n",
       "      <td>66085</td>\n",
       "      <td>movie</td>\n",
       "      <td>andhadhun</td>\n",
       "      <td>andhadhun</td>\n",
       "      <td>2018</td>\n",
       "    </tr>\n",
       "  </tbody>\n",
       "</table>\n",
       "</div>"
      ],
      "text/plain": [
       "       type                                          title  \\\n",
       "1894  Movie                                   pulp fiction   \n",
       "1854  Movie  the lord of the rings: the return of the king   \n",
       "2836  Movie                               schindler's list   \n",
       "1813  Movie                                      inception   \n",
       "740   Movie                                     the matrix   \n",
       "1855  Movie          the lord of the rings: the two towers   \n",
       "1971  Movie                                    be here now   \n",
       "1792  Movie                                    city of god   \n",
       "2180  Movie                                       gol maal   \n",
       "2398  Movie                                   the departed   \n",
       "683   Movie                             american history x   \n",
       "604   Movie                   once upon a time in the west   \n",
       "410   Movie                                          senna   \n",
       "2259  Movie                         avengers: infinity war   \n",
       "1121  Movie                            the lives of others   \n",
       "1287  Movie              spider-man: into the spider-verse   \n",
       "2588  Movie                                       3 idiots   \n",
       "1311  Movie                                         dangal   \n",
       "215   Movie    winter on fire: ukraine's fight for freedom   \n",
       "1276  Movie                                   super deluxe   \n",
       "2071  Movie                 rush: beyond the lighted stage   \n",
       "2190  Movie                                         masoom   \n",
       "2198  Movie                                          sadma   \n",
       "2395  Movie                                         qismat   \n",
       "445   Movie                       harishchandrachi factory   \n",
       "1459  Movie                           inglourious basterds   \n",
       "1781  Movie                                american beauty   \n",
       "1557  Movie                                    taxi driver   \n",
       "1105  Movie                                   a separation   \n",
       "2307  Movie                                      andhadhun   \n",
       "\n",
       "                                           director  \\\n",
       "1894                              Quentin Tarantino   \n",
       "1854                                  Peter Jackson   \n",
       "2836                               Steven Spielberg   \n",
       "1813                              Christopher Nolan   \n",
       "740                 Lilly Wachowski, Lana Wachowski   \n",
       "1855                                  Peter Jackson   \n",
       "1971                                 Lilibet Foster   \n",
       "1792                 Fernando Meirelles, Katia Lund   \n",
       "2180                           Hrishikesh Mukherjee   \n",
       "2398                                Martin Scorsese   \n",
       "683                                       Tony Kaye   \n",
       "604                                    Sergio Leone   \n",
       "410                                    Asif Kapadia   \n",
       "2259                       Anthony Russo, Joe Russo   \n",
       "1121               Florian Henckel von Donnersmarck   \n",
       "1287  Peter Ramsey, Rodney Rothman, Bob Persichetti   \n",
       "2588                                Rajkumar Hirani   \n",
       "1311                                  Nitesh Tiwari   \n",
       "215                               Evgeny Afineevsky   \n",
       "1276                         Thiagarajan Kumararaja   \n",
       "2071                        Sam Dunn, Scot McFadyen   \n",
       "2190                                  Shekhar Kapur   \n",
       "2198                                  Balu Mahendra   \n",
       "2395                                  Jagdeep Sidhu   \n",
       "445                                  Paresh Mokashi   \n",
       "1459                              Quentin Tarantino   \n",
       "1781                                     Sam Mendes   \n",
       "1557                                Martin Scorsese   \n",
       "1105                                 Asghar Farhadi   \n",
       "2307                                Sriram Raghavan   \n",
       "\n",
       "                                                   cast  \\\n",
       "1894  John Travolta, Samuel L. Jackson, Uma Thurman,...   \n",
       "1854  Elijah Wood, Ian McKellen, Liv Tyler, Viggo Mo...   \n",
       "2836  Liam Neeson, Ben Kingsley, Ralph Fiennes, Caro...   \n",
       "1813  Leonardo DiCaprio, Joseph Gordon-Levitt, Ellen...   \n",
       "740   Keanu Reeves, Laurence Fishburne, Carrie-Anne ...   \n",
       "1855  Elijah Wood, Ian McKellen, Liv Tyler, Viggo Mo...   \n",
       "1971                                     Andy Whitfield   \n",
       "1792  Alexandre Rodrigues, Leandro Firmino, Phellipe...   \n",
       "2180  Amol Palekar, Bindiya Goswami, Deven Verma, Ut...   \n",
       "2398  Leonardo DiCaprio, Matt Damon, Jack Nicholson,...   \n",
       "683   Edward Norton, Edward Furlong, Beverly D'Angel...   \n",
       "604   Henry Fonda, Charles Bronson, Claudia Cardinal...   \n",
       "410           Ayrton Senna, Alain Prost, Frank Williams   \n",
       "2259  Robert Downey Jr., Josh Brolin, Mark Ruffalo, ...   \n",
       "1121  Ulrich Mühe, Martina Gedeck, Sebastian Koch, U...   \n",
       "1287  Shameik Moore, Jake Johnson, Hailee Steinfeld,...   \n",
       "2588  Aamir Khan, Kareena Kapoor, Madhavan, Sharman ...   \n",
       "1311  Aamir Khan, Sakshi Tanwar, Fatima Sana Shaikh,...   \n",
       "215                                                 NaN   \n",
       "1276  Vijay Sethupathi, Fahadh Faasil, Samantha Ruth...   \n",
       "2071                                                NaN   \n",
       "2190  Shabana Azmi, Naseeruddin Shah, Saeed Jaffrey,...   \n",
       "2198  Kamal Hassan, Sridevi, Silk Smitha, Gulshan Gr...   \n",
       "2395  Ammy Virk, Sargun Mehta, Guggu Gill, Tania, Ha...   \n",
       "445   Nandu Madhav, Vibhawari Deshpande, Ambarish De...   \n",
       "1459  Brad Pitt, Mélanie Laurent, Christoph Waltz, E...   \n",
       "1781  Kevin Spacey, Annette Bening, Thora Birch, Wes...   \n",
       "1557  Robert De Niro, Jodie Foster, Cybill Shepherd,...   \n",
       "1105  Leila Hatami, Peyman Moaadi, Shahab Hosseini, ...   \n",
       "2307  Tabu, Ayushmann Khurrana, Radhika Apte, Anil D...   \n",
       "\n",
       "                                     country         date_added  release_year  \\\n",
       "1894                           United States    January 1, 2019          1994   \n",
       "1854              New Zealand, United States    January 1, 2020          2003   \n",
       "2836                           United States      April 1, 2018          1993   \n",
       "1813           United States, United Kingdom    January 1, 2020          2010   \n",
       "740                            United States   November 1, 2019          1999   \n",
       "1855              New Zealand, United States    January 1, 2020          2002   \n",
       "1971                United States, Australia  February 28, 2017          2015   \n",
       "1792                 Brazil, France, Germany    January 1, 2020          2002   \n",
       "2180                                   India  December 31, 2019          1979   \n",
       "2398                           United States   December 1, 2019          2006   \n",
       "683                            United States   November 1, 2019          1998   \n",
       "604                     Italy, United States  November 20, 2019          1968   \n",
       "410    United Kingdom, France, United States    October 1, 2019          2010   \n",
       "2259                           United States  December 25, 2018          2018   \n",
       "1121                                 Germany     March 15, 2019          2006   \n",
       "1287                           United States      June 26, 2019          2018   \n",
       "2588                                   India     August 1, 2019          2009   \n",
       "1311                                   India      June 21, 2017          2016   \n",
       "215   United Kingdom, Ukraine, United States    October 9, 2015          2015   \n",
       "1276                                   India      June 29, 2019          2019   \n",
       "2071                                  Canada  February 15, 2017          2010   \n",
       "2190                                   India  December 31, 2019          1983   \n",
       "2198                                   India  December 31, 2019          1983   \n",
       "2395                                   India   December 1, 2019          2018   \n",
       "445                                    India    October 1, 2018          2009   \n",
       "1459                  Germany, United States      July 22, 2019          2009   \n",
       "1781                           United States    January 1, 2020          1999   \n",
       "1557                           United States       July 1, 2019          1976   \n",
       "1105                            Iran, France     March 16, 2019          2011   \n",
       "2307                                   India  December 16, 2018          2018   \n",
       "\n",
       "     rating duration                                          listed_in  \\\n",
       "1894      R  154 min                Classic Movies, Cult Movies, Dramas   \n",
       "1854  PG-13  201 min               Action & Adventure, Sci-Fi & Fantasy   \n",
       "2836      R  195 min                             Classic Movies, Dramas   \n",
       "1813  PG-13  148 min    Action & Adventure, Sci-Fi & Fantasy, Thrillers   \n",
       "740       R  136 min               Action & Adventure, Sci-Fi & Fantasy   \n",
       "1855  PG-13  179 min               Action & Adventure, Sci-Fi & Fantasy   \n",
       "1971  TV-MA  110 min                                      Documentaries   \n",
       "1792      R  130 min   Dramas, Independent Movies, International Movies   \n",
       "2180  TV-PG  137 min     Classic Movies, Comedies, International Movies   \n",
       "2398      R  151 min                                  Dramas, Thrillers   \n",
       "683       R  119 min                                             Dramas   \n",
       "604   PG-13  166 min  Action & Adventure, Classic Movies, Internatio...   \n",
       "410   PG-13  106 min  Documentaries, International Movies, Sports Mo...   \n",
       "2259  PG-13  150 min               Action & Adventure, Sci-Fi & Fantasy   \n",
       "1121      R  138 min            Dramas, International Movies, Thrillers   \n",
       "1287     PG  117 min                       Action & Adventure, Comedies   \n",
       "2588  PG-13  164 min             Comedies, Dramas, International Movies   \n",
       "1311  TV-PG  161 min        Dramas, International Movies, Sports Movies   \n",
       "215      NR   99 min                Documentaries, International Movies   \n",
       "1276  TV-MA  176 min             Comedies, Dramas, International Movies   \n",
       "2071  TV-14  107 min                    Documentaries, Music & Musicals   \n",
       "2190  TV-14  138 min   Dramas, Independent Movies, International Movies   \n",
       "2198  TV-14  137 min      Dramas, International Movies, Romantic Movies   \n",
       "2395  TV-PG  137 min      Dramas, International Movies, Romantic Movies   \n",
       "445   TV-PG   99 min                       Dramas, International Movies   \n",
       "1459      R  153 min                                 Action & Adventure   \n",
       "1781      R  122 min                                             Dramas   \n",
       "1557      R  114 min                  Classic Movies, Dramas, Thrillers   \n",
       "1105  PG-13  123 min                       Dramas, International Movies   \n",
       "2307  TV-14  137 min             Comedies, Dramas, International Movies   \n",
       "\n",
       "                                            description  averageRating  \\\n",
       "1894  This stylized crime caper weaves together stor...            8.9   \n",
       "1854  Aragorn is revealed as the heir to the ancient...            8.9   \n",
       "2836  Oskar Schindler becomes an unlikely humanitari...            8.9   \n",
       "1813  In this mind-bending sci-fi thriller, a man ru...            8.8   \n",
       "740   A computer hacker learns that what most people...            8.7   \n",
       "1855  Frodo and Sam head to Mordor to destroy the On...            8.7   \n",
       "1971  Trace the brave journey of actor Andy Whitfiel...            8.7   \n",
       "1792  Growing up in a Rio de Janeiro slum, Rocket is...            8.6   \n",
       "2180  When circumstances at work compel Ram to prete...            8.6   \n",
       "2398  Two rookie Boston cops are sent deep undercove...            8.5   \n",
       "683   A neo-Nazi gets sent to prison for murder and ...            8.5   \n",
       "604   In this epic spaghetti Western, a flinty gunsl...            8.5   \n",
       "410   This fast-paced documentary profiles Ayrton Se...            8.5   \n",
       "2259  Superheroes amass to stop intergalactic sociop...            8.4   \n",
       "1121  As a secret police agent eavesdrops on a succe...            8.4   \n",
       "1287  After being bitten by a radioactive spider, Br...            8.4   \n",
       "2588  While attending one of India's premier college...            8.4   \n",
       "1311  A once-promising wrestler pursues the gold med...            8.4   \n",
       "215   Over 93 days in Ukraine, what started as peace...            8.4   \n",
       "1276  Sex, stigma and spirituality merge in these ec...            8.4   \n",
       "2071  Celebrate the remarkable 40-year career of inf...            8.4   \n",
       "2190  A loving husband and father's joyful family li...            8.4   \n",
       "2198  After a traumatic injury leaves her with amnes...            8.4   \n",
       "2395  A young villager moves to Chandigarh and falls...            8.4   \n",
       "445   Against a backdrop of burgeoning social unrest...            8.4   \n",
       "1459  A Jewish cinema owner in occupied Paris is for...            8.3   \n",
       "1781  While struggling to endure his tightly wound w...            8.3   \n",
       "1557  Enraged by New York's moral rot and urban deca...            8.3   \n",
       "1105  Amid an impasse in his marriage, a father in T...            8.3   \n",
       "2307  A visually impaired pianist’s world careens in...            8.3   \n",
       "\n",
       "      numVotes titleType                                   primaryTitle  \\\n",
       "1894   1782352     movie                                   pulp fiction   \n",
       "1854   1605940     movie  the lord of the rings: the return of the king   \n",
       "2836   1184746     movie                               schindler's list   \n",
       "1813   2006939     movie                                      inception   \n",
       "740    1634375     movie                                     the matrix   \n",
       "1855   1451316     movie          the lord of the rings: the two towers   \n",
       "1971      3157     movie                                    be here now   \n",
       "1792    686449     movie                                    city of god   \n",
       "2180     17423     movie                                       gol maal   \n",
       "2398   1161114     movie                                   the departed   \n",
       "683    1015108     movie                             american history x   \n",
       "604     295650     movie                   once upon a time in the west   \n",
       "410      62415     movie                                          senna   \n",
       "2259    798378     movie                         avengers: infinity war   \n",
       "1121    350061     movie                            the lives of others   \n",
       "1287    337201     movie              spider-man: into the spider-verse   \n",
       "2588    332827     movie                                       3 idiots   \n",
       "1311    148290     movie                                         dangal   \n",
       "215      12337     movie    winter on fire: ukraine's fight for freedom   \n",
       "1276      8319     movie                                   super deluxe   \n",
       "2071      4084     movie                 rush: beyond the lighted stage   \n",
       "2190      3552     movie                                         masoom   \n",
       "2198      2858     movie                                          sadma   \n",
       "2395      2096     movie                                         qismat   \n",
       "445       2070     movie                       harishchandrachi factory   \n",
       "1459   1231605     movie                           inglourious basterds   \n",
       "1781   1050054     movie                                american beauty   \n",
       "1557    704319     movie                                    taxi driver   \n",
       "1105    214404     movie                                   a separation   \n",
       "2307     66085     movie                                      andhadhun   \n",
       "\n",
       "                                      originalTitle  startYear  \n",
       "1894                                   pulp fiction       1994  \n",
       "1854  the lord of the rings: the return of the king       2003  \n",
       "2836                               schindler's list       1993  \n",
       "1813                                      inception       2010  \n",
       "740                                      the matrix       1999  \n",
       "1855          the lord of the rings: the two towers       2002  \n",
       "1971                                    be here now       2015  \n",
       "1792                                 cidade de deus       2002  \n",
       "2180                                       gol maal       1979  \n",
       "2398                                   the departed       2006  \n",
       "683                              american history x       1998  \n",
       "604                         c'era una volta il west       1968  \n",
       "410                                           senna       2010  \n",
       "2259                         avengers: infinity war       2018  \n",
       "1121                          das leben der anderen       2006  \n",
       "1287              spider-man: into the spider-verse       2018  \n",
       "2588                                       3 idiots       2009  \n",
       "1311                                         dangal       2016  \n",
       "215     winter on fire: ukraine's fight for freedom       2015  \n",
       "1276                                   super deluxe       2019  \n",
       "2071                 rush: beyond the lighted stage       2010  \n",
       "2190                                         masoom       1983  \n",
       "2198                                          sadma       1983  \n",
       "2395                                         qismat       2018  \n",
       "445                        harishchandrachi factory       2009  \n",
       "1459                           inglourious basterds       2009  \n",
       "1781                                american beauty       1999  \n",
       "1557                                    taxi driver       1976  \n",
       "1105                        jodaeiye nader az simin       2011  \n",
       "2307                                      andhadhun       2018  "
      ]
     },
     "execution_count": 18,
     "metadata": {},
     "output_type": "execute_result"
    }
   ],
   "source": [
    "netflix_titles_rating_2000.head(30)"
   ]
  },
  {
   "cell_type": "code",
   "execution_count": 19,
   "metadata": {
    "scrolled": true
   },
   "outputs": [
    {
     "name": "stderr",
     "output_type": "stream",
     "text": [
      "<ipython-input-19-f4c0bebf9b69>:1: SettingWithCopyWarning: \n",
      "A value is trying to be set on a copy of a slice from a DataFrame\n",
      "\n",
      "See the caveats in the documentation: https://pandas.pydata.org/pandas-docs/stable/user_guide/indexing.html#returning-a-view-versus-a-copy\n",
      "  netflix_titles_rating_2000.dropna(subset=['director'], inplace=True)\n",
      "<ipython-input-19-f4c0bebf9b69>:2: SettingWithCopyWarning: \n",
      "A value is trying to be set on a copy of a slice from a DataFrame\n",
      "\n",
      "See the caveats in the documentation: https://pandas.pydata.org/pandas-docs/stable/user_guide/indexing.html#returning-a-view-versus-a-copy\n",
      "  netflix_titles_rating_2000.dropna(subset=['cast'], inplace=True)\n",
      "<ipython-input-19-f4c0bebf9b69>:3: SettingWithCopyWarning: \n",
      "A value is trying to be set on a copy of a slice from a DataFrame\n",
      "\n",
      "See the caveats in the documentation: https://pandas.pydata.org/pandas-docs/stable/user_guide/indexing.html#returning-a-view-versus-a-copy\n",
      "  netflix_titles_rating_2000.dropna(subset=['country'], inplace=True)\n"
     ]
    }
   ],
   "source": [
    "netflix_titles_rating_2000.dropna(subset=['director'], inplace=True)\n",
    "netflix_titles_rating_2000.dropna(subset=['cast'], inplace=True)\n",
    "netflix_titles_rating_2000.dropna(subset=['country'], inplace=True)"
   ]
  },
  {
   "cell_type": "markdown",
   "metadata": {},
   "source": [
    "### Check for NaN values"
   ]
  },
  {
   "cell_type": "code",
   "execution_count": 20,
   "metadata": {},
   "outputs": [
    {
     "data": {
      "text/plain": [
       "type             False\n",
       "title            False\n",
       "director         False\n",
       "cast             False\n",
       "country          False\n",
       "date_added       False\n",
       "release_year     False\n",
       "rating           False\n",
       "duration         False\n",
       "listed_in        False\n",
       "description      False\n",
       "averageRating    False\n",
       "numVotes         False\n",
       "titleType        False\n",
       "primaryTitle     False\n",
       "originalTitle    False\n",
       "startYear        False\n",
       "dtype: bool"
      ]
     },
     "execution_count": 20,
     "metadata": {},
     "output_type": "execute_result"
    }
   ],
   "source": [
    "netflix_titles_rating_2000.isnull().any()"
   ]
  },
  {
   "cell_type": "code",
   "execution_count": 21,
   "metadata": {
    "tags": []
   },
   "outputs": [
    {
     "name": "stdout",
     "output_type": "stream",
     "text": [
      "[]\n"
     ]
    }
   ],
   "source": [
    "nan_vars = netflix_titles_rating_2000.columns[netflix_titles_rating_2000.isnull().any()].tolist()\n",
    "print(nan_vars)"
   ]
  },
  {
   "cell_type": "code",
   "execution_count": 22,
   "metadata": {
    "tags": []
   },
   "outputs": [],
   "source": [
    "for variable in nan_vars:\n",
    "    print(variable, sum(netflix_titles_rating_2000[variable].isnull()))"
   ]
  },
  {
   "cell_type": "markdown",
   "metadata": {},
   "source": [
    "Now we see that there is no NaN values in our dataset"
   ]
  },
  {
   "cell_type": "markdown",
   "metadata": {},
   "source": [
    "### Split Genres "
   ]
  },
  {
   "cell_type": "code",
   "execution_count": 23,
   "metadata": {
    "tags": []
   },
   "outputs": [
    {
     "name": "stdout",
     "output_type": "stream",
     "text": [
      "                                              title             listed_in\n",
      "1894                                   pulp fiction        Classic Movies\n",
      "1894                                   pulp fiction           Cult Movies\n",
      "1894                                   pulp fiction                Dramas\n",
      "1854  the lord of the rings: the return of the king    Action & Adventure\n",
      "1854  the lord of the rings: the return of the king      Sci-Fi & Fantasy\n",
      "...                                             ...                   ...\n",
      "765                                      himmatwala    Action & Adventure\n",
      "765                                      himmatwala              Comedies\n",
      "765                                      himmatwala  International Movies\n",
      "1915                 justin bieber: never say never         Documentaries\n",
      "1915                 justin bieber: never say never      Music & Musicals\n",
      "\n",
      "[3336 rows x 2 columns]\n"
     ]
    }
   ],
   "source": [
    "from itertools import chain\n",
    "\n",
    "# return list from series of comma-separated strings\n",
    "def chainer(s):\n",
    "    return list(chain.from_iterable(s.str.split(',')))\n",
    "\n",
    "# calculate lengths of splits\n",
    "lens = netflix_titles_rating_2000.head(2000)['listed_in'].str.split(',').map(len)\n",
    "\n",
    "# create new dataframe, repeating or chaining as appropriate\n",
    "res = pd.DataFrame({'title': numpy.repeat(netflix_titles_rating_2000.head(2000)['title'], lens),\n",
    "                    'listed_in': chainer(netflix_titles_rating_2000.head(2000)['listed_in']),\n",
    "                    })\n",
    "res['listed_in']=res['listed_in'].str.strip()\n",
    "\n",
    "print(res)"
   ]
  },
  {
   "cell_type": "markdown",
   "metadata": {},
   "source": [
    "#### Show Top Genres"
   ]
  },
  {
   "cell_type": "code",
   "execution_count": 24,
   "metadata": {},
   "outputs": [
    {
     "data": {
      "text/plain": [
       "Dramas                      664\n",
       "International Movies        511\n",
       "Comedies                    477\n",
       "Action & Adventure          338\n",
       "Independent Movies          260\n",
       "Thrillers                   236\n",
       "Romantic Movies             152\n",
       "Horror Movies               134\n",
       "Sci-Fi & Fantasy            131\n",
       "Children & Family Movies    116\n",
       "Documentaries                62\n",
       "Music & Musicals             57\n",
       "Classic Movies               52\n",
       "Sports Movies                48\n",
       "Cult Movies                  42\n",
       "LGBTQ Movies                 24\n",
       "Anime Features               16\n",
       "Faith & Spirituality         11\n",
       "Stand-Up Comedy               5\n",
       "Name: listed_in, dtype: int64"
      ]
     },
     "execution_count": 24,
     "metadata": {},
     "output_type": "execute_result"
    }
   ],
   "source": [
    "top_genres=res['listed_in'].value_counts()\n",
    "top_genres"
   ]
  },
  {
   "cell_type": "markdown",
   "metadata": {},
   "source": [
    "### Compare means of average ratings per rating"
   ]
  },
  {
   "cell_type": "code",
   "execution_count": 25,
   "metadata": {},
   "outputs": [
    {
     "data": {
      "text/html": [
       "<div>\n",
       "<style scoped>\n",
       "    .dataframe tbody tr th:only-of-type {\n",
       "        vertical-align: middle;\n",
       "    }\n",
       "\n",
       "    .dataframe tbody tr th {\n",
       "        vertical-align: top;\n",
       "    }\n",
       "\n",
       "    .dataframe thead tr th {\n",
       "        text-align: left;\n",
       "    }\n",
       "\n",
       "    .dataframe thead tr:last-of-type th {\n",
       "        text-align: right;\n",
       "    }\n",
       "</style>\n",
       "<table border=\"1\" class=\"dataframe\">\n",
       "  <thead>\n",
       "    <tr>\n",
       "      <th></th>\n",
       "      <th colspan=\"2\" halign=\"left\">averageRating</th>\n",
       "    </tr>\n",
       "    <tr>\n",
       "      <th></th>\n",
       "      <th>mean</th>\n",
       "      <th>std</th>\n",
       "    </tr>\n",
       "    <tr>\n",
       "      <th>rating</th>\n",
       "      <th></th>\n",
       "      <th></th>\n",
       "    </tr>\n",
       "  </thead>\n",
       "  <tbody>\n",
       "    <tr>\n",
       "      <th>TV-G</th>\n",
       "      <td>7.300000</td>\n",
       "      <td>0.424264</td>\n",
       "    </tr>\n",
       "    <tr>\n",
       "      <th>R</th>\n",
       "      <td>6.542721</td>\n",
       "      <td>0.998833</td>\n",
       "    </tr>\n",
       "    <tr>\n",
       "      <th>G</th>\n",
       "      <td>6.527778</td>\n",
       "      <td>1.388527</td>\n",
       "    </tr>\n",
       "    <tr>\n",
       "      <th>NR</th>\n",
       "      <td>6.494828</td>\n",
       "      <td>0.921749</td>\n",
       "    </tr>\n",
       "    <tr>\n",
       "      <th>TV-PG</th>\n",
       "      <td>6.490411</td>\n",
       "      <td>1.319213</td>\n",
       "    </tr>\n",
       "    <tr>\n",
       "      <th>PG-13</th>\n",
       "      <td>6.426582</td>\n",
       "      <td>1.042736</td>\n",
       "    </tr>\n",
       "    <tr>\n",
       "      <th>TV-14</th>\n",
       "      <td>6.357732</td>\n",
       "      <td>1.189708</td>\n",
       "    </tr>\n",
       "    <tr>\n",
       "      <th>UR</th>\n",
       "      <td>6.280000</td>\n",
       "      <td>0.944458</td>\n",
       "    </tr>\n",
       "    <tr>\n",
       "      <th>TV-MA</th>\n",
       "      <td>6.226836</td>\n",
       "      <td>1.014868</td>\n",
       "    </tr>\n",
       "    <tr>\n",
       "      <th>PG</th>\n",
       "      <td>6.197297</td>\n",
       "      <td>1.049109</td>\n",
       "    </tr>\n",
       "    <tr>\n",
       "      <th>TV-Y7</th>\n",
       "      <td>5.800000</td>\n",
       "      <td>0.435890</td>\n",
       "    </tr>\n",
       "  </tbody>\n",
       "</table>\n",
       "</div>"
      ],
      "text/plain": [
       "       averageRating          \n",
       "                mean       std\n",
       "rating                        \n",
       "TV-G        7.300000  0.424264\n",
       "R           6.542721  0.998833\n",
       "G           6.527778  1.388527\n",
       "NR          6.494828  0.921749\n",
       "TV-PG       6.490411  1.319213\n",
       "PG-13       6.426582  1.042736\n",
       "TV-14       6.357732  1.189708\n",
       "UR          6.280000  0.944458\n",
       "TV-MA       6.226836  1.014868\n",
       "PG          6.197297  1.049109\n",
       "TV-Y7       5.800000  0.435890"
      ]
     },
     "execution_count": 25,
     "metadata": {},
     "output_type": "execute_result"
    }
   ],
   "source": [
    "netflix_titles_rating_2000.groupby(\"rating\").agg({\"averageRating\": [\"mean\", \"std\"]}).sort_values((\"averageRating\", \"mean\"), ascending=False)"
   ]
  },
  {
   "cell_type": "markdown",
   "metadata": {},
   "source": [
    "# Movie ratings across different timeframes"
   ]
  },
  {
   "cell_type": "markdown",
   "metadata": {},
   "source": [
    "We want to know if there is a difference between what people liked based on their average ratings on the movies.\n",
    "\n",
    "To do this, we will group the release_year, which is the year when the movie is produced into an interval of 15 years.\n",
    "\n",
    "We will bin the release_year into an intervals of 15 by using pandas.cut()."
   ]
  },
  {
   "cell_type": "markdown",
   "metadata": {},
   "source": [
    "### Group release_year into an interval of 10 years"
   ]
  },
  {
   "cell_type": "code",
   "execution_count": 26,
   "metadata": {
    "scrolled": true
   },
   "outputs": [
    {
     "name": "stderr",
     "output_type": "stream",
     "text": [
      "<ipython-input-26-9cd66473b27f>:3: SettingWithCopyWarning: \n",
      "A value is trying to be set on a copy of a slice from a DataFrame.\n",
      "Try using .loc[row_indexer,col_indexer] = value instead\n",
      "\n",
      "See the caveats in the documentation: https://pandas.pydata.org/pandas-docs/stable/user_guide/indexing.html#returning-a-view-versus-a-copy\n",
      "  netflix_titles_rating_2000['year_interval_15'] = pd.cut(netflix_titles_rating_2000['release_year'], bins=bins, labels=labels)\n"
     ]
    }
   ],
   "source": [
    "bins = [1941,1957,1973,1989,2005,2020]\n",
    "labels = ['1941-1956','1957-1972','1973-1988','1989-2004','2005-2020']\n",
    "netflix_titles_rating_2000['year_interval_15'] = pd.cut(netflix_titles_rating_2000['release_year'], bins=bins, labels=labels)"
   ]
  },
  {
   "cell_type": "code",
   "execution_count": 27,
   "metadata": {},
   "outputs": [
    {
     "data": {
      "text/plain": [
       "2005-2020    1181\n",
       "1989-2004     231\n",
       "1973-1988      40\n",
       "1957-1972      18\n",
       "1941-1956       4\n",
       "Name: year_interval_15, dtype: int64"
      ]
     },
     "execution_count": 27,
     "metadata": {},
     "output_type": "execute_result"
    }
   ],
   "source": [
    "netflix_titles_rating_2000['year_interval_15'].value_counts()"
   ]
  },
  {
   "cell_type": "markdown",
   "metadata": {},
   "source": [
    "After grouping the release_year, we get the average of the averageRatings per year_interval_15."
   ]
  },
  {
   "cell_type": "markdown",
   "metadata": {},
   "source": [
    "### Compare means of averageRating per year range"
   ]
  },
  {
   "cell_type": "code",
   "execution_count": 28,
   "metadata": {},
   "outputs": [
    {
     "data": {
      "text/html": [
       "<div>\n",
       "<style scoped>\n",
       "    .dataframe tbody tr th:only-of-type {\n",
       "        vertical-align: middle;\n",
       "    }\n",
       "\n",
       "    .dataframe tbody tr th {\n",
       "        vertical-align: top;\n",
       "    }\n",
       "\n",
       "    .dataframe thead tr th {\n",
       "        text-align: left;\n",
       "    }\n",
       "\n",
       "    .dataframe thead tr:last-of-type th {\n",
       "        text-align: right;\n",
       "    }\n",
       "</style>\n",
       "<table border=\"1\" class=\"dataframe\">\n",
       "  <thead>\n",
       "    <tr>\n",
       "      <th></th>\n",
       "      <th colspan=\"2\" halign=\"left\">averageRating</th>\n",
       "    </tr>\n",
       "    <tr>\n",
       "      <th></th>\n",
       "      <th>mean</th>\n",
       "      <th>std</th>\n",
       "    </tr>\n",
       "    <tr>\n",
       "      <th>year_interval_15</th>\n",
       "      <th></th>\n",
       "      <th></th>\n",
       "    </tr>\n",
       "  </thead>\n",
       "  <tbody>\n",
       "    <tr>\n",
       "      <th>1941-1956</th>\n",
       "      <td>7.575000</td>\n",
       "      <td>0.125831</td>\n",
       "    </tr>\n",
       "    <tr>\n",
       "      <th>1957-1972</th>\n",
       "      <td>7.405556</td>\n",
       "      <td>0.653022</td>\n",
       "    </tr>\n",
       "    <tr>\n",
       "      <th>1973-1988</th>\n",
       "      <td>7.255000</td>\n",
       "      <td>0.879671</td>\n",
       "    </tr>\n",
       "    <tr>\n",
       "      <th>1989-2004</th>\n",
       "      <td>6.654545</td>\n",
       "      <td>0.969609</td>\n",
       "    </tr>\n",
       "    <tr>\n",
       "      <th>2005-2020</th>\n",
       "      <td>6.291702</td>\n",
       "      <td>1.063652</td>\n",
       "    </tr>\n",
       "  </tbody>\n",
       "</table>\n",
       "</div>"
      ],
      "text/plain": [
       "                 averageRating          \n",
       "                          mean       std\n",
       "year_interval_15                        \n",
       "1941-1956             7.575000  0.125831\n",
       "1957-1972             7.405556  0.653022\n",
       "1973-1988             7.255000  0.879671\n",
       "1989-2004             6.654545  0.969609\n",
       "2005-2020             6.291702  1.063652"
      ]
     },
     "execution_count": 28,
     "metadata": {},
     "output_type": "execute_result"
    }
   ],
   "source": [
    "netflix_titles_rating_2000.groupby(\"year_interval_15\").agg({\"averageRating\": [\"mean\",\"std\"]})"
   ]
  },
  {
   "cell_type": "markdown",
   "metadata": {},
   "source": [
    "We want to know if there is a difference of ratings between recent movies and older movies in span of 15 years interval.\n",
    "\n",
    "We will get the point estimate of the group year range from 1989-2004 and 2005-2020"
   ]
  },
  {
   "cell_type": "markdown",
   "metadata": {},
   "source": [
    "### Difference between year range from 1989-2004 to 2005-2020"
   ]
  },
  {
   "cell_type": "code",
   "execution_count": 29,
   "metadata": {},
   "outputs": [
    {
     "data": {
      "text/plain": [
       "0.3628429999999998"
      ]
     },
     "execution_count": 29,
     "metadata": {},
     "output_type": "execute_result"
    }
   ],
   "source": [
    "6.654545 - 6.291702"
   ]
  },
  {
   "cell_type": "markdown",
   "metadata": {},
   "source": [
    "Based on our data, we see that there is 0.36 difference of ratings of movies between 1989-2004 and 2005-2020.\n",
    "\n",
    "\n",
    "To see if there is a significant difference between the two grouped year intervals, we will use T-test unpaired observation.\n"
   ]
  },
  {
   "cell_type": "markdown",
   "metadata": {},
   "source": [
    "We set up our hypotheses as follows:\n",
    "\n",
    "$H_0$ (null hypothesis): There is no true difference between the two grouped year intervals.\n",
    "\n",
    "$H_A$ (alternative hypothesis): There is a true difference between the two grouped year intervals."
   ]
  },
  {
   "cell_type": "markdown",
   "metadata": {},
   "source": [
    "Now, we can use a $t$-test to compare the two means from the unpaired groups. This function assumes that the null hypothesis is that the difference between the two means is 0, while the alternative hypothesis is that the diference between them is not 0. We set the `equal_var` parameter to `False` because we don't want to assume that the population has equal variances."
   ]
  },
  {
   "cell_type": "markdown",
   "metadata": {},
   "source": [
    "Now using a t-test to compare the two groups:"
   ]
  },
  {
   "cell_type": "markdown",
   "metadata": {},
   "source": [
    "### Find the statistics of two groups (1989-2004 and 2005-2020)"
   ]
  },
  {
   "cell_type": "code",
   "execution_count": 30,
   "metadata": {},
   "outputs": [
    {
     "data": {
      "text/plain": [
       "Ttest_indResult(statistic=-5.117153927143217, pvalue=5.14440408750733e-07)"
      ]
     },
     "execution_count": 30,
     "metadata": {},
     "output_type": "execute_result"
    }
   ],
   "source": [
    "from scipy.stats import ttest_ind\n",
    "ttest_ind(netflix_titles_rating_2000[netflix_titles_rating_2000[\"year_interval_15\"] == \"2005-2020\"][\"averageRating\"],\n",
    "          netflix_titles_rating_2000[netflix_titles_rating_2000[\"year_interval_15\"] == \"1989-2004\"][\"averageRating\"],\n",
    "          equal_var = False)"
   ]
  },
  {
   "cell_type": "markdown",
   "metadata": {},
   "source": [
    "With a 95% confidence level,\n",
    "\n",
    "the result shows that the p-value is less than 0.05. This means that we accept the null hypothesis, which is there is no significant difference between the two grouped year intervals.\n",
    "\n",
    "However, if we look back to the count of the grouped year intervals' values used, they are not close in values because there is more movies produced and rated in the recent years than the older ones."
   ]
  },
  {
   "cell_type": "markdown",
   "metadata": {},
   "source": [
    "# Recommender Systems - Content-based Filtering on multiple factors"
   ]
  },
  {
   "cell_type": "markdown",
   "metadata": {},
   "source": [
    "This Recommender System uses multiple factors to recommend other movies using content-based filtering."
   ]
  },
  {
   "cell_type": "markdown",
   "metadata": {},
   "source": [
    "First, we copy the dataframe into another to avoid disruption of data since we will be cleaning in a different way to manipulate the dataframe."
   ]
  },
  {
   "cell_type": "code",
   "execution_count": 31,
   "metadata": {},
   "outputs": [],
   "source": [
    "recom_netflix_2000 = netflix_titles_rating_2000.copy()"
   ]
  },
  {
   "cell_type": "markdown",
   "metadata": {},
   "source": [
    "We define a function that cleans the data which removes the spaces in the words."
   ]
  },
  {
   "cell_type": "code",
   "execution_count": 32,
   "metadata": {},
   "outputs": [],
   "source": [
    "def clean_data(x):\n",
    "        return str.lower(x.replace(\" \", \"\"))"
   ]
  },
  {
   "cell_type": "markdown",
   "metadata": {},
   "source": [
    "We set up the factors to filter by the title, director, cast, listed_in(genre), and description of the movies"
   ]
  },
  {
   "cell_type": "code",
   "execution_count": 33,
   "metadata": {},
   "outputs": [
    {
     "data": {
      "text/html": [
       "<div>\n",
       "<style scoped>\n",
       "    .dataframe tbody tr th:only-of-type {\n",
       "        vertical-align: middle;\n",
       "    }\n",
       "\n",
       "    .dataframe tbody tr th {\n",
       "        vertical-align: top;\n",
       "    }\n",
       "\n",
       "    .dataframe thead th {\n",
       "        text-align: right;\n",
       "    }\n",
       "</style>\n",
       "<table border=\"1\" class=\"dataframe\">\n",
       "  <thead>\n",
       "    <tr style=\"text-align: right;\">\n",
       "      <th></th>\n",
       "      <th>title</th>\n",
       "      <th>director</th>\n",
       "      <th>cast</th>\n",
       "      <th>listed_in</th>\n",
       "      <th>description</th>\n",
       "    </tr>\n",
       "  </thead>\n",
       "  <tbody>\n",
       "    <tr>\n",
       "      <th>1894</th>\n",
       "      <td>pulp fiction</td>\n",
       "      <td>Quentin Tarantino</td>\n",
       "      <td>John Travolta, Samuel L. Jackson, Uma Thurman,...</td>\n",
       "      <td>Classic Movies, Cult Movies, Dramas</td>\n",
       "      <td>This stylized crime caper weaves together stor...</td>\n",
       "    </tr>\n",
       "    <tr>\n",
       "      <th>1854</th>\n",
       "      <td>the lord of the rings: the return of the king</td>\n",
       "      <td>Peter Jackson</td>\n",
       "      <td>Elijah Wood, Ian McKellen, Liv Tyler, Viggo Mo...</td>\n",
       "      <td>Action &amp; Adventure, Sci-Fi &amp; Fantasy</td>\n",
       "      <td>Aragorn is revealed as the heir to the ancient...</td>\n",
       "    </tr>\n",
       "    <tr>\n",
       "      <th>2836</th>\n",
       "      <td>schindler's list</td>\n",
       "      <td>Steven Spielberg</td>\n",
       "      <td>Liam Neeson, Ben Kingsley, Ralph Fiennes, Caro...</td>\n",
       "      <td>Classic Movies, Dramas</td>\n",
       "      <td>Oskar Schindler becomes an unlikely humanitari...</td>\n",
       "    </tr>\n",
       "    <tr>\n",
       "      <th>1813</th>\n",
       "      <td>inception</td>\n",
       "      <td>Christopher Nolan</td>\n",
       "      <td>Leonardo DiCaprio, Joseph Gordon-Levitt, Ellen...</td>\n",
       "      <td>Action &amp; Adventure, Sci-Fi &amp; Fantasy, Thrillers</td>\n",
       "      <td>In this mind-bending sci-fi thriller, a man ru...</td>\n",
       "    </tr>\n",
       "    <tr>\n",
       "      <th>740</th>\n",
       "      <td>the matrix</td>\n",
       "      <td>Lilly Wachowski, Lana Wachowski</td>\n",
       "      <td>Keanu Reeves, Laurence Fishburne, Carrie-Anne ...</td>\n",
       "      <td>Action &amp; Adventure, Sci-Fi &amp; Fantasy</td>\n",
       "      <td>A computer hacker learns that what most people...</td>\n",
       "    </tr>\n",
       "  </tbody>\n",
       "</table>\n",
       "</div>"
      ],
      "text/plain": [
       "                                              title  \\\n",
       "1894                                   pulp fiction   \n",
       "1854  the lord of the rings: the return of the king   \n",
       "2836                               schindler's list   \n",
       "1813                                      inception   \n",
       "740                                      the matrix   \n",
       "\n",
       "                             director  \\\n",
       "1894                Quentin Tarantino   \n",
       "1854                    Peter Jackson   \n",
       "2836                 Steven Spielberg   \n",
       "1813                Christopher Nolan   \n",
       "740   Lilly Wachowski, Lana Wachowski   \n",
       "\n",
       "                                                   cast  \\\n",
       "1894  John Travolta, Samuel L. Jackson, Uma Thurman,...   \n",
       "1854  Elijah Wood, Ian McKellen, Liv Tyler, Viggo Mo...   \n",
       "2836  Liam Neeson, Ben Kingsley, Ralph Fiennes, Caro...   \n",
       "1813  Leonardo DiCaprio, Joseph Gordon-Levitt, Ellen...   \n",
       "740   Keanu Reeves, Laurence Fishburne, Carrie-Anne ...   \n",
       "\n",
       "                                            listed_in  \\\n",
       "1894              Classic Movies, Cult Movies, Dramas   \n",
       "1854             Action & Adventure, Sci-Fi & Fantasy   \n",
       "2836                           Classic Movies, Dramas   \n",
       "1813  Action & Adventure, Sci-Fi & Fantasy, Thrillers   \n",
       "740              Action & Adventure, Sci-Fi & Fantasy   \n",
       "\n",
       "                                            description  \n",
       "1894  This stylized crime caper weaves together stor...  \n",
       "1854  Aragorn is revealed as the heir to the ancient...  \n",
       "2836  Oskar Schindler becomes an unlikely humanitari...  \n",
       "1813  In this mind-bending sci-fi thriller, a man ru...  \n",
       "740   A computer hacker learns that what most people...  "
      ]
     },
     "execution_count": 33,
     "metadata": {},
     "output_type": "execute_result"
    }
   ],
   "source": [
    "features=['title','director','cast','listed_in','description']\n",
    "recom_netflix_2000=recom_netflix_2000[features]\n",
    "\n",
    "recom_netflix_2000.head()"
   ]
  },
  {
   "cell_type": "markdown",
   "metadata": {},
   "source": [
    "We then clean the dataframe with the factors defined using the clean_data function defined earlier."
   ]
  },
  {
   "cell_type": "code",
   "execution_count": 34,
   "metadata": {},
   "outputs": [
    {
     "data": {
      "text/plain": [
       "1894    thisstylizedcrimecaperweavestogetherstoriesfea...\n",
       "1854    aragornisrevealedastheheirtotheancientkingsash...\n",
       "2836    oskarschindlerbecomesanunlikelyhumanitarian,sp...\n",
       "1813    inthismind-bendingsci-fithriller,amanrunsanesp...\n",
       "740     acomputerhackerlearnsthatwhatmostpeopleperceiv...\n",
       "Name: description, dtype: object"
      ]
     },
     "execution_count": 34,
     "metadata": {},
     "output_type": "execute_result"
    }
   ],
   "source": [
    "for feature in features:\n",
    "    recom_netflix_2000[feature] = recom_netflix_2000[feature].apply(clean_data)\n",
    "    \n",
    "recom_netflix_2000[feature].head()"
   ]
  },
  {
   "cell_type": "markdown",
   "metadata": {},
   "source": [
    "We define a function that concatenates the data into one string and separate them into spaces"
   ]
  },
  {
   "cell_type": "code",
   "execution_count": 35,
   "metadata": {},
   "outputs": [],
   "source": [
    "def create_soup(x):\n",
    "    return x['title']+ ' ' + x['director'] + ' ' + x['cast'] + ' ' +x['listed_in']+' '+ x['description']"
   ]
  },
  {
   "cell_type": "markdown",
   "metadata": {},
   "source": [
    "We apply the defined function to the dataframe"
   ]
  },
  {
   "cell_type": "code",
   "execution_count": 36,
   "metadata": {},
   "outputs": [
    {
     "data": {
      "text/plain": [
       "1894    pulpfiction quentintarantino johntravolta,samu...\n",
       "1854    thelordoftherings:thereturnoftheking peterjack...\n",
       "2836    schindler'slist stevenspielberg liamneeson,ben...\n",
       "1813    inception christophernolan leonardodicaprio,jo...\n",
       "740     thematrix lillywachowski,lanawachowski keanure...\n",
       "Name: soup, dtype: object"
      ]
     },
     "execution_count": 36,
     "metadata": {},
     "output_type": "execute_result"
    }
   ],
   "source": [
    "recom_netflix_2000['soup'] = recom_netflix_2000.apply(create_soup, axis=1)\n",
    "\n",
    "recom_netflix_2000['soup'].head()"
   ]
  },
  {
   "cell_type": "markdown",
   "metadata": {},
   "source": [
    "We import functions to compute for the cosine similarity"
   ]
  },
  {
   "cell_type": "code",
   "execution_count": 37,
   "metadata": {},
   "outputs": [],
   "source": [
    "from sklearn.feature_extraction.text import CountVectorizer\n",
    "from sklearn.metrics.pairwise import cosine_similarity"
   ]
  },
  {
   "cell_type": "code",
   "execution_count": 38,
   "metadata": {},
   "outputs": [],
   "source": [
    "count = CountVectorizer(stop_words='english')\n",
    "count_matrix = count.fit_transform(recom_netflix_2000['soup'])\n",
    "\n",
    "cosine_sim2 = cosine_similarity(count_matrix, count_matrix)"
   ]
  },
  {
   "cell_type": "code",
   "execution_count": 39,
   "metadata": {},
   "outputs": [],
   "source": [
    "recom_netflix_2000=recom_netflix_2000.reset_index()\n",
    "indices = pd.Series(recom_netflix_2000.index, index=recom_netflix_2000['title'])"
   ]
  },
  {
   "cell_type": "markdown",
   "metadata": {},
   "source": [
    "We define a function that will return the top 10 recommended movies based on the multiple factors that we used for content-based filtering"
   ]
  },
  {
   "cell_type": "code",
   "execution_count": 40,
   "metadata": {},
   "outputs": [],
   "source": [
    "def get_recommendations_new(title, cosine_sim=cosine_sim2):\n",
    "    title=title.replace(' ','').lower()\n",
    "    idx = indices[title]\n",
    "\n",
    "    # Get the pairwsie similarity scores of all movies with that movie\n",
    "    sim_scores = list(enumerate(cosine_sim[idx]))\n",
    "\n",
    "    # Sort the movies based on the similarity scores\n",
    "    sim_scores = sorted(sim_scores, key=lambda x: x[1], reverse=True)\n",
    "\n",
    "    # Get the scores of the 10 most similar movies\n",
    "    sim_scores = sim_scores[1:11]\n",
    "\n",
    "    # Get the movie indices\n",
    "    movie_indices = [i[0] for i in sim_scores]\n",
    "\n",
    "    # Return the top 10 most similar movies\n",
    "    return recom_netflix_2000['title'].iloc[movie_indices]"
   ]
  },
  {
   "cell_type": "code",
   "execution_count": 41,
   "metadata": {},
   "outputs": [
    {
     "data": {
      "text/plain": [
       "55                    pk\n",
       "37         rangdebasanti\n",
       "343              talaash\n",
       "121                sanju\n",
       "779     ferrarikisawaari\n",
       "1121      ekmainaurekktu\n",
       "496        dildhadaknedo\n",
       "1188                zero\n",
       "60          dilchahtahai\n",
       "545         tanuwedsmanu\n",
       "Name: title, dtype: object"
      ]
     },
     "execution_count": 41,
     "metadata": {},
     "output_type": "execute_result"
    }
   ],
   "source": [
    "get_recommendations_new('3 idiots', cosine_sim2)"
   ]
  },
  {
   "cell_type": "code",
   "execution_count": 42,
   "metadata": {},
   "outputs": [
    {
     "data": {
      "text/plain": [
       "111                thehatefuleight\n",
       "210                    jackiebrown\n",
       "287                    coachcarter\n",
       "293                    meanstreets\n",
       "304    alicedoesn'tlivehereanymore\n",
       "25                      taxidriver\n",
       "244                         carrie\n",
       "247                       truegrit\n",
       "82                catonahottinroof\n",
       "411                   theinterview\n",
       "Name: title, dtype: object"
      ]
     },
     "execution_count": 42,
     "metadata": {},
     "output_type": "execute_result"
    }
   ],
   "source": [
    "get_recommendations_new('pulp fiction', cosine_sim2)"
   ]
  }
 ],
 "metadata": {
  "kernelspec": {
   "display_name": "Python 3",
   "language": "python",
   "name": "python3"
  },
  "language_info": {
   "codemirror_mode": {
    "name": "ipython",
    "version": 3
   },
   "file_extension": ".py",
   "mimetype": "text/x-python",
   "name": "python",
   "nbconvert_exporter": "python",
   "pygments_lexer": "ipython3",
   "version": "3.8.3"
  }
 },
 "nbformat": 4,
 "nbformat_minor": 4
}
